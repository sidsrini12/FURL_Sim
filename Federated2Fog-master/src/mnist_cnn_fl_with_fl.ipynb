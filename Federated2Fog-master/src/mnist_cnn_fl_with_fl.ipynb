{
 "cells": [
  {
   "cell_type": "code",
   "execution_count": null,
   "metadata": {},
   "outputs": [],
   "source": [
    "%load_ext autoreload\n",
    "%autoreload 2"
   ]
  },
  {
   "cell_type": "code",
   "execution_count": null,
   "metadata": {},
   "outputs": [],
   "source": [
    "from arguments import Arguments\n",
    "from cnn import CNN\n",
    "import os\n",
    "import syft as sy\n",
    "import torch\n",
    "import torch.nn.functional as F\n",
    "import torch.optim as optim\n",
    "from torchvision import datasets, transforms\n",
    "from train import fl_train_with_fl as train\n",
    "from train import test"
   ]
  },
  {
   "cell_type": "code",
   "execution_count": null,
   "metadata": {},
   "outputs": [],
   "source": [
    "# Setups\n",
    "args = Arguments()\n",
    "USE_CUDA = not args.no_cuda and torch.cuda.is_available()\n",
    "\n",
    "torch.manual_seed(args.seed)\n",
    "device = torch.device(\"cuda\" if USE_CUDA else \"cpu\")\n",
    "kwargs = {'num_workers': 1, 'pin_memory': True} if USE_CUDA else {}\n",
    "kwargs = {}"
   ]
  },
  {
   "cell_type": "code",
   "execution_count": null,
   "metadata": {},
   "outputs": [],
   "source": [
    "ckpt_path = '../ckpts'\n",
    "init_path = os.path.join(ckpt_path, 'mnist_cnn_fl.init')\n",
    "best_path = os.path.join(ckpt_path, 'mnist_cnn_fl.best')\n",
    "stop_path = os.path.join(ckpt_path, 'mnist_cnn_fl.stop')\n"
   ]
  },
  {
   "cell_type": "code",
   "execution_count": null,
   "metadata": {},
   "outputs": [],
   "source": [
    "# Setup hook to support FL\n",
    "hook = sy.TorchHook(torch)\n",
    "\n",
    "# Define workers\n",
    "workers = list()\n",
    "for id_ in range(args.num_workers):\n",
    "    workers.append(sy.VirtualWorker(hook, id=str(id_)))\n",
    "\n",
    "train_loader = sy.FederatedDataLoader(\n",
    "    datasets.MNIST('../data', train=True, download=True,\n",
    "                   transform=transforms.Compose([\n",
    "                       transforms.ToTensor(),\n",
    "                       transforms.Normalize((0.1307,), (0.3081,))\n",
    "                   ]))\n",
    "    .federate(workers),\n",
    "    batch_size=args.batch_size, shuffle=True, **kwargs)\n",
    "\n",
    "test_loader = torch.utils.data.DataLoader(\n",
    "    datasets.MNIST('../data', train=False, transform=transforms.Compose([\n",
    "                       transforms.ToTensor(),\n",
    "                       transforms.Normalize((0.1307,), (0.3081,))\n",
    "                   ])),\n",
    "    batch_size=args.test_batch_size, shuffle=True, **kwargs)\n"
   ]
  },
  {
   "cell_type": "code",
   "execution_count": null,
   "metadata": {},
   "outputs": [],
   "source": [
    "best = 0\n",
    "\n",
    "# Fire the engines\n",
    "model = CNN().to(device)\n",
    "if args.load_init:\n",
    "    model.load_state_dict(torch.load(init_path))\n",
    "    print('Load init: {}'.format(init_path))\n",
    "elif args.save_init:\n",
    "    torch.save(model.state_dict(), init_path)\n",
    "    print('Save init: {}'.format(init_path))\n",
    "    \n",
    "optimizer = optim.SGD(model.parameters(), lr=args.lr)\n",
    "\n",
    "for epoch in range(1, args.epochs + 1):\n",
    "    train(args, model, device, train_loader, optimizer, epoch)\n",
    "    best = test(args, model, device, test_loader, best)\n",
    "\n",
    "    if args.save_model:\n",
    "        torch.save(model.state_dict(), best_path)\n",
    "        print('Model best: {}\\n'.format(best_path))\n",
    "    \n",
    "if (args.save_model):\n",
    "    torch.save(model.state_dict(), stop_path)\n",
    "    print('Model stop: {}'.format(stop_path))\n"
   ]
  },
  {
   "cell_type": "code",
   "execution_count": null,
   "metadata": {},
   "outputs": [],
   "source": []
  }
 ],
 "metadata": {
  "kernelspec": {
   "display_name": "Python 3",
   "language": "python",
   "name": "python3"
  },
  "language_info": {
   "codemirror_mode": {
    "name": "ipython",
    "version": 3
   },
   "file_extension": ".py",
   "mimetype": "text/x-python",
   "name": "python",
   "nbconvert_exporter": "python",
   "pygments_lexer": "ipython3",
   "version": "3.6.9"
  },
  "name": "mnist_cnn_fl_with_fl.ipynb"
 },
 "nbformat": 4,
 "nbformat_minor": 4
}
