{
 "cells": [
  {
   "cell_type": "code",
   "execution_count": 3,
   "metadata": {
    "collapsed": false
   },
   "outputs": [],
   "source": [
    "import networkx as nx\n",
    "import numpy as np\n",
    "import torch\n",
    "from train import get_connected_graph"
   ]
  },
  {
   "cell_type": "code",
   "execution_count": 272,
   "metadata": {
    "collapsed": false
   },
   "outputs": [
    {
     "ename": "KeyboardInterrupt",
     "evalue": "",
     "output_type": "error",
     "traceback": [
      "\u001b[0;31m---------------------------------------------------------------------------\u001b[0m",
      "\u001b[0;31mKeyboardInterrupt\u001b[0m                         Traceback (most recent call last)",
      "\u001b[0;32m<ipython-input-272-a14b3832f3f5>\u001b[0m in \u001b[0;36m<module>\u001b[0;34m\u001b[0m\n\u001b[0;32m----> 1\u001b[0;31m \u001b[0;32mfrom\u001b[0m \u001b[0mgen_iid_data\u001b[0m \u001b[0;32mimport\u001b[0m \u001b[0mrepeat_data\u001b[0m\u001b[0;34m\u001b[0m\u001b[0;34m\u001b[0m\u001b[0m\n\u001b[0m",
      "\u001b[0;32m/WorkSpace/Federated2Fog/src/gen_iid_data.py\u001b[0m in \u001b[0;36m<module>\u001b[0;34m\u001b[0m\n\u001b[1;32m     25\u001b[0m     batch_size=args.num_test, shuffle=True, **kwargs)\n\u001b[1;32m     26\u001b[0m \u001b[0;34m\u001b[0m\u001b[0m\n\u001b[0;32m---> 27\u001b[0;31m \u001b[0;32mfor\u001b[0m \u001b[0mdata\u001b[0m\u001b[0;34m,\u001b[0m \u001b[0mtarget\u001b[0m \u001b[0;32min\u001b[0m \u001b[0mtrain_loader\u001b[0m\u001b[0;34m:\u001b[0m\u001b[0;34m\u001b[0m\u001b[0;34m\u001b[0m\u001b[0m\n\u001b[0m\u001b[1;32m     28\u001b[0m     \u001b[0mX_train\u001b[0m \u001b[0;34m=\u001b[0m \u001b[0mdata\u001b[0m\u001b[0;34m\u001b[0m\u001b[0;34m\u001b[0m\u001b[0m\n\u001b[1;32m     29\u001b[0m     \u001b[0my_train\u001b[0m \u001b[0;34m=\u001b[0m \u001b[0mtarget\u001b[0m\u001b[0;34m\u001b[0m\u001b[0;34m\u001b[0m\u001b[0m\n",
      "\u001b[0;32m/usr/local/lib/python3.6/dist-packages/torch/utils/data/dataloader.py\u001b[0m in \u001b[0;36m__next__\u001b[0;34m(self)\u001b[0m\n\u001b[1;32m    343\u001b[0m \u001b[0;34m\u001b[0m\u001b[0m\n\u001b[1;32m    344\u001b[0m     \u001b[0;32mdef\u001b[0m \u001b[0m__next__\u001b[0m\u001b[0;34m(\u001b[0m\u001b[0mself\u001b[0m\u001b[0;34m)\u001b[0m\u001b[0;34m:\u001b[0m\u001b[0;34m\u001b[0m\u001b[0;34m\u001b[0m\u001b[0m\n\u001b[0;32m--> 345\u001b[0;31m         \u001b[0mdata\u001b[0m \u001b[0;34m=\u001b[0m \u001b[0mself\u001b[0m\u001b[0;34m.\u001b[0m\u001b[0m_next_data\u001b[0m\u001b[0;34m(\u001b[0m\u001b[0;34m)\u001b[0m\u001b[0;34m\u001b[0m\u001b[0;34m\u001b[0m\u001b[0m\n\u001b[0m\u001b[1;32m    346\u001b[0m         \u001b[0mself\u001b[0m\u001b[0;34m.\u001b[0m\u001b[0m_num_yielded\u001b[0m \u001b[0;34m+=\u001b[0m \u001b[0;36m1\u001b[0m\u001b[0;34m\u001b[0m\u001b[0;34m\u001b[0m\u001b[0m\n\u001b[1;32m    347\u001b[0m         \u001b[0;32mif\u001b[0m \u001b[0mself\u001b[0m\u001b[0;34m.\u001b[0m\u001b[0m_dataset_kind\u001b[0m \u001b[0;34m==\u001b[0m \u001b[0m_DatasetKind\u001b[0m\u001b[0;34m.\u001b[0m\u001b[0mIterable\u001b[0m \u001b[0;32mand\u001b[0m\u001b[0;31m \u001b[0m\u001b[0;31m\\\u001b[0m\u001b[0;34m\u001b[0m\u001b[0;34m\u001b[0m\u001b[0m\n",
      "\u001b[0;32m/usr/local/lib/python3.6/dist-packages/torch/utils/data/dataloader.py\u001b[0m in \u001b[0;36m_next_data\u001b[0;34m(self)\u001b[0m\n\u001b[1;32m    383\u001b[0m     \u001b[0;32mdef\u001b[0m \u001b[0m_next_data\u001b[0m\u001b[0;34m(\u001b[0m\u001b[0mself\u001b[0m\u001b[0;34m)\u001b[0m\u001b[0;34m:\u001b[0m\u001b[0;34m\u001b[0m\u001b[0;34m\u001b[0m\u001b[0m\n\u001b[1;32m    384\u001b[0m         \u001b[0mindex\u001b[0m \u001b[0;34m=\u001b[0m \u001b[0mself\u001b[0m\u001b[0;34m.\u001b[0m\u001b[0m_next_index\u001b[0m\u001b[0;34m(\u001b[0m\u001b[0;34m)\u001b[0m  \u001b[0;31m# may raise StopIteration\u001b[0m\u001b[0;34m\u001b[0m\u001b[0;34m\u001b[0m\u001b[0m\n\u001b[0;32m--> 385\u001b[0;31m         \u001b[0mdata\u001b[0m \u001b[0;34m=\u001b[0m \u001b[0mself\u001b[0m\u001b[0;34m.\u001b[0m\u001b[0m_dataset_fetcher\u001b[0m\u001b[0;34m.\u001b[0m\u001b[0mfetch\u001b[0m\u001b[0;34m(\u001b[0m\u001b[0mindex\u001b[0m\u001b[0;34m)\u001b[0m  \u001b[0;31m# may raise StopIteration\u001b[0m\u001b[0;34m\u001b[0m\u001b[0;34m\u001b[0m\u001b[0m\n\u001b[0m\u001b[1;32m    386\u001b[0m         \u001b[0;32mif\u001b[0m \u001b[0mself\u001b[0m\u001b[0;34m.\u001b[0m\u001b[0m_pin_memory\u001b[0m\u001b[0;34m:\u001b[0m\u001b[0;34m\u001b[0m\u001b[0;34m\u001b[0m\u001b[0m\n\u001b[1;32m    387\u001b[0m             \u001b[0mdata\u001b[0m \u001b[0;34m=\u001b[0m \u001b[0m_utils\u001b[0m\u001b[0;34m.\u001b[0m\u001b[0mpin_memory\u001b[0m\u001b[0;34m.\u001b[0m\u001b[0mpin_memory\u001b[0m\u001b[0;34m(\u001b[0m\u001b[0mdata\u001b[0m\u001b[0;34m)\u001b[0m\u001b[0;34m\u001b[0m\u001b[0;34m\u001b[0m\u001b[0m\n",
      "\u001b[0;32m/usr/local/lib/python3.6/dist-packages/torch/utils/data/_utils/fetch.py\u001b[0m in \u001b[0;36mfetch\u001b[0;34m(self, possibly_batched_index)\u001b[0m\n\u001b[1;32m     42\u001b[0m     \u001b[0;32mdef\u001b[0m \u001b[0mfetch\u001b[0m\u001b[0;34m(\u001b[0m\u001b[0mself\u001b[0m\u001b[0;34m,\u001b[0m \u001b[0mpossibly_batched_index\u001b[0m\u001b[0;34m)\u001b[0m\u001b[0;34m:\u001b[0m\u001b[0;34m\u001b[0m\u001b[0;34m\u001b[0m\u001b[0m\n\u001b[1;32m     43\u001b[0m         \u001b[0;32mif\u001b[0m \u001b[0mself\u001b[0m\u001b[0;34m.\u001b[0m\u001b[0mauto_collation\u001b[0m\u001b[0;34m:\u001b[0m\u001b[0;34m\u001b[0m\u001b[0;34m\u001b[0m\u001b[0m\n\u001b[0;32m---> 44\u001b[0;31m             \u001b[0mdata\u001b[0m \u001b[0;34m=\u001b[0m \u001b[0;34m[\u001b[0m\u001b[0mself\u001b[0m\u001b[0;34m.\u001b[0m\u001b[0mdataset\u001b[0m\u001b[0;34m[\u001b[0m\u001b[0midx\u001b[0m\u001b[0;34m]\u001b[0m \u001b[0;32mfor\u001b[0m \u001b[0midx\u001b[0m \u001b[0;32min\u001b[0m \u001b[0mpossibly_batched_index\u001b[0m\u001b[0;34m]\u001b[0m\u001b[0;34m\u001b[0m\u001b[0;34m\u001b[0m\u001b[0m\n\u001b[0m\u001b[1;32m     45\u001b[0m         \u001b[0;32melse\u001b[0m\u001b[0;34m:\u001b[0m\u001b[0;34m\u001b[0m\u001b[0;34m\u001b[0m\u001b[0m\n\u001b[1;32m     46\u001b[0m             \u001b[0mdata\u001b[0m \u001b[0;34m=\u001b[0m \u001b[0mself\u001b[0m\u001b[0;34m.\u001b[0m\u001b[0mdataset\u001b[0m\u001b[0;34m[\u001b[0m\u001b[0mpossibly_batched_index\u001b[0m\u001b[0;34m]\u001b[0m\u001b[0;34m\u001b[0m\u001b[0;34m\u001b[0m\u001b[0m\n",
      "\u001b[0;32m/usr/local/lib/python3.6/dist-packages/torch/utils/data/_utils/fetch.py\u001b[0m in \u001b[0;36m<listcomp>\u001b[0;34m(.0)\u001b[0m\n\u001b[1;32m     42\u001b[0m     \u001b[0;32mdef\u001b[0m \u001b[0mfetch\u001b[0m\u001b[0;34m(\u001b[0m\u001b[0mself\u001b[0m\u001b[0;34m,\u001b[0m \u001b[0mpossibly_batched_index\u001b[0m\u001b[0;34m)\u001b[0m\u001b[0;34m:\u001b[0m\u001b[0;34m\u001b[0m\u001b[0;34m\u001b[0m\u001b[0m\n\u001b[1;32m     43\u001b[0m         \u001b[0;32mif\u001b[0m \u001b[0mself\u001b[0m\u001b[0;34m.\u001b[0m\u001b[0mauto_collation\u001b[0m\u001b[0;34m:\u001b[0m\u001b[0;34m\u001b[0m\u001b[0;34m\u001b[0m\u001b[0m\n\u001b[0;32m---> 44\u001b[0;31m             \u001b[0mdata\u001b[0m \u001b[0;34m=\u001b[0m \u001b[0;34m[\u001b[0m\u001b[0mself\u001b[0m\u001b[0;34m.\u001b[0m\u001b[0mdataset\u001b[0m\u001b[0;34m[\u001b[0m\u001b[0midx\u001b[0m\u001b[0;34m]\u001b[0m \u001b[0;32mfor\u001b[0m \u001b[0midx\u001b[0m \u001b[0;32min\u001b[0m \u001b[0mpossibly_batched_index\u001b[0m\u001b[0;34m]\u001b[0m\u001b[0;34m\u001b[0m\u001b[0;34m\u001b[0m\u001b[0m\n\u001b[0m\u001b[1;32m     45\u001b[0m         \u001b[0;32melse\u001b[0m\u001b[0;34m:\u001b[0m\u001b[0;34m\u001b[0m\u001b[0;34m\u001b[0m\u001b[0m\n\u001b[1;32m     46\u001b[0m             \u001b[0mdata\u001b[0m \u001b[0;34m=\u001b[0m \u001b[0mself\u001b[0m\u001b[0;34m.\u001b[0m\u001b[0mdataset\u001b[0m\u001b[0;34m[\u001b[0m\u001b[0mpossibly_batched_index\u001b[0m\u001b[0;34m]\u001b[0m\u001b[0;34m\u001b[0m\u001b[0;34m\u001b[0m\u001b[0m\n",
      "\u001b[0;32m/usr/local/lib/python3.6/dist-packages/torchvision/datasets/mnist.py\u001b[0m in \u001b[0;36m__getitem__\u001b[0;34m(self, index)\u001b[0m\n\u001b[1;32m     95\u001b[0m \u001b[0;34m\u001b[0m\u001b[0m\n\u001b[1;32m     96\u001b[0m         \u001b[0;32mif\u001b[0m \u001b[0mself\u001b[0m\u001b[0;34m.\u001b[0m\u001b[0mtransform\u001b[0m \u001b[0;32mis\u001b[0m \u001b[0;32mnot\u001b[0m \u001b[0;32mNone\u001b[0m\u001b[0;34m:\u001b[0m\u001b[0;34m\u001b[0m\u001b[0;34m\u001b[0m\u001b[0m\n\u001b[0;32m---> 97\u001b[0;31m             \u001b[0mimg\u001b[0m \u001b[0;34m=\u001b[0m \u001b[0mself\u001b[0m\u001b[0;34m.\u001b[0m\u001b[0mtransform\u001b[0m\u001b[0;34m(\u001b[0m\u001b[0mimg\u001b[0m\u001b[0;34m)\u001b[0m\u001b[0;34m\u001b[0m\u001b[0;34m\u001b[0m\u001b[0m\n\u001b[0m\u001b[1;32m     98\u001b[0m \u001b[0;34m\u001b[0m\u001b[0m\n\u001b[1;32m     99\u001b[0m         \u001b[0;32mif\u001b[0m \u001b[0mself\u001b[0m\u001b[0;34m.\u001b[0m\u001b[0mtarget_transform\u001b[0m \u001b[0;32mis\u001b[0m \u001b[0;32mnot\u001b[0m \u001b[0;32mNone\u001b[0m\u001b[0;34m:\u001b[0m\u001b[0;34m\u001b[0m\u001b[0;34m\u001b[0m\u001b[0m\n",
      "\u001b[0;32m/usr/local/lib/python3.6/dist-packages/torchvision/transforms/transforms.py\u001b[0m in \u001b[0;36m__call__\u001b[0;34m(self, img)\u001b[0m\n\u001b[1;32m     68\u001b[0m     \u001b[0;32mdef\u001b[0m \u001b[0m__call__\u001b[0m\u001b[0;34m(\u001b[0m\u001b[0mself\u001b[0m\u001b[0;34m,\u001b[0m \u001b[0mimg\u001b[0m\u001b[0;34m)\u001b[0m\u001b[0;34m:\u001b[0m\u001b[0;34m\u001b[0m\u001b[0;34m\u001b[0m\u001b[0m\n\u001b[1;32m     69\u001b[0m         \u001b[0;32mfor\u001b[0m \u001b[0mt\u001b[0m \u001b[0;32min\u001b[0m \u001b[0mself\u001b[0m\u001b[0;34m.\u001b[0m\u001b[0mtransforms\u001b[0m\u001b[0;34m:\u001b[0m\u001b[0;34m\u001b[0m\u001b[0;34m\u001b[0m\u001b[0m\n\u001b[0;32m---> 70\u001b[0;31m             \u001b[0mimg\u001b[0m \u001b[0;34m=\u001b[0m \u001b[0mt\u001b[0m\u001b[0;34m(\u001b[0m\u001b[0mimg\u001b[0m\u001b[0;34m)\u001b[0m\u001b[0;34m\u001b[0m\u001b[0;34m\u001b[0m\u001b[0m\n\u001b[0m\u001b[1;32m     71\u001b[0m         \u001b[0;32mreturn\u001b[0m \u001b[0mimg\u001b[0m\u001b[0;34m\u001b[0m\u001b[0;34m\u001b[0m\u001b[0m\n\u001b[1;32m     72\u001b[0m \u001b[0;34m\u001b[0m\u001b[0m\n",
      "\u001b[0;32m/usr/local/lib/python3.6/dist-packages/torchvision/transforms/transforms.py\u001b[0m in \u001b[0;36m__call__\u001b[0;34m(self, tensor)\u001b[0m\n\u001b[1;32m    173\u001b[0m             \u001b[0mTensor\u001b[0m\u001b[0;34m:\u001b[0m \u001b[0mNormalized\u001b[0m \u001b[0mTensor\u001b[0m \u001b[0mimage\u001b[0m\u001b[0;34m.\u001b[0m\u001b[0;34m\u001b[0m\u001b[0;34m\u001b[0m\u001b[0m\n\u001b[1;32m    174\u001b[0m         \"\"\"\n\u001b[0;32m--> 175\u001b[0;31m         \u001b[0;32mreturn\u001b[0m \u001b[0mF\u001b[0m\u001b[0;34m.\u001b[0m\u001b[0mnormalize\u001b[0m\u001b[0;34m(\u001b[0m\u001b[0mtensor\u001b[0m\u001b[0;34m,\u001b[0m \u001b[0mself\u001b[0m\u001b[0;34m.\u001b[0m\u001b[0mmean\u001b[0m\u001b[0;34m,\u001b[0m \u001b[0mself\u001b[0m\u001b[0;34m.\u001b[0m\u001b[0mstd\u001b[0m\u001b[0;34m,\u001b[0m \u001b[0mself\u001b[0m\u001b[0;34m.\u001b[0m\u001b[0minplace\u001b[0m\u001b[0;34m)\u001b[0m\u001b[0;34m\u001b[0m\u001b[0;34m\u001b[0m\u001b[0m\n\u001b[0m\u001b[1;32m    176\u001b[0m \u001b[0;34m\u001b[0m\u001b[0m\n\u001b[1;32m    177\u001b[0m     \u001b[0;32mdef\u001b[0m \u001b[0m__repr__\u001b[0m\u001b[0;34m(\u001b[0m\u001b[0mself\u001b[0m\u001b[0;34m)\u001b[0m\u001b[0;34m:\u001b[0m\u001b[0;34m\u001b[0m\u001b[0;34m\u001b[0m\u001b[0m\n",
      "\u001b[0;32m/usr/local/lib/python3.6/dist-packages/torchvision/transforms/functional.py\u001b[0m in \u001b[0;36mnormalize\u001b[0;34m(tensor, mean, std, inplace)\u001b[0m\n\u001b[1;32m    216\u001b[0m     \u001b[0mmean\u001b[0m \u001b[0;34m=\u001b[0m \u001b[0mtorch\u001b[0m\u001b[0;34m.\u001b[0m\u001b[0mas_tensor\u001b[0m\u001b[0;34m(\u001b[0m\u001b[0mmean\u001b[0m\u001b[0;34m,\u001b[0m \u001b[0mdtype\u001b[0m\u001b[0;34m=\u001b[0m\u001b[0mdtype\u001b[0m\u001b[0;34m,\u001b[0m \u001b[0mdevice\u001b[0m\u001b[0;34m=\u001b[0m\u001b[0mtensor\u001b[0m\u001b[0;34m.\u001b[0m\u001b[0mdevice\u001b[0m\u001b[0;34m)\u001b[0m\u001b[0;34m\u001b[0m\u001b[0;34m\u001b[0m\u001b[0m\n\u001b[1;32m    217\u001b[0m     \u001b[0mstd\u001b[0m \u001b[0;34m=\u001b[0m \u001b[0mtorch\u001b[0m\u001b[0;34m.\u001b[0m\u001b[0mas_tensor\u001b[0m\u001b[0;34m(\u001b[0m\u001b[0mstd\u001b[0m\u001b[0;34m,\u001b[0m \u001b[0mdtype\u001b[0m\u001b[0;34m=\u001b[0m\u001b[0mdtype\u001b[0m\u001b[0;34m,\u001b[0m \u001b[0mdevice\u001b[0m\u001b[0;34m=\u001b[0m\u001b[0mtensor\u001b[0m\u001b[0;34m.\u001b[0m\u001b[0mdevice\u001b[0m\u001b[0;34m)\u001b[0m\u001b[0;34m\u001b[0m\u001b[0;34m\u001b[0m\u001b[0m\n\u001b[0;32m--> 218\u001b[0;31m     \u001b[0mtensor\u001b[0m\u001b[0;34m.\u001b[0m\u001b[0msub_\u001b[0m\u001b[0;34m(\u001b[0m\u001b[0mmean\u001b[0m\u001b[0;34m[\u001b[0m\u001b[0;34m:\u001b[0m\u001b[0;34m,\u001b[0m \u001b[0;32mNone\u001b[0m\u001b[0;34m,\u001b[0m \u001b[0;32mNone\u001b[0m\u001b[0;34m]\u001b[0m\u001b[0;34m)\u001b[0m\u001b[0;34m.\u001b[0m\u001b[0mdiv_\u001b[0m\u001b[0;34m(\u001b[0m\u001b[0mstd\u001b[0m\u001b[0;34m[\u001b[0m\u001b[0;34m:\u001b[0m\u001b[0;34m,\u001b[0m \u001b[0;32mNone\u001b[0m\u001b[0;34m,\u001b[0m \u001b[0;32mNone\u001b[0m\u001b[0;34m]\u001b[0m\u001b[0;34m)\u001b[0m\u001b[0;34m\u001b[0m\u001b[0;34m\u001b[0m\u001b[0m\n\u001b[0m\u001b[1;32m    219\u001b[0m     \u001b[0;32mreturn\u001b[0m \u001b[0mtensor\u001b[0m\u001b[0;34m\u001b[0m\u001b[0;34m\u001b[0m\u001b[0m\n\u001b[1;32m    220\u001b[0m \u001b[0;34m\u001b[0m\u001b[0m\n",
      "\u001b[0;31mKeyboardInterrupt\u001b[0m: "
     ]
    }
   ],
   "source": [
    "from gen_iid_data import repeat_data"
   ]
  },
  {
   "cell_type": "code",
   "execution_count": 4,
   "metadata": {
    "collapsed": false
   },
   "outputs": [
    {
     "data": {
      "text/plain": [
       "tensor([[[1., 1.],\n",
       "         [1., 1.]],\n",
       "\n",
       "        [[2., 2.],\n",
       "         [2., 2.]],\n",
       "\n",
       "        [[3., 3.],\n",
       "         [3., 3.]],\n",
       "\n",
       "        [[4., 4.],\n",
       "         [4., 4.]],\n",
       "\n",
       "        [[5., 5.],\n",
       "         [5., 5.]]])"
      ]
     },
     "execution_count": 4,
     "metadata": {},
     "output_type": "execute_result"
    }
   ],
   "source": [
    "start = torch.stack([\n",
    "    torch.ones(2, 2),\n",
    "    torch.ones(2, 2)*2,\n",
    "    torch.ones(2, 2)*3,\n",
    "    torch.ones(2, 2)*4,\n",
    "    torch.ones(2, 2)*5\n",
    "])\n",
    "start"
   ]
  },
  {
   "cell_type": "code",
   "execution_count": 5,
   "metadata": {
    "collapsed": false
   },
   "outputs": [],
   "source": [
    "start = start.reshape(5, -1)"
   ]
  },
  {
   "cell_type": "code",
   "execution_count": 495,
   "metadata": {
    "collapsed": false
   },
   "outputs": [
    {
     "name": "stdout",
     "output_type": "stream",
     "text": [
      "is_connected:  True\n",
      "max_degree:  4\n",
      "avg_degree:  3.2\n",
      "d: 0.125000\n",
      "rho(L):  5.000000000000002\n",
      "rho(V):  1.0\n",
      "rho(Z):  0.75\n"
     ]
    }
   ],
   "source": [
    "param = 0.7\n",
    "num_nodes = 5\n",
    "factor = 2\n",
    "graph = get_connected_graph(num_nodes, param, topology='rgg')\n",
    "graph = pkl.load(open('../graphs/topology_rgg_degree_3.2_rho_0.7500.pkl', 'rb'))\n",
    "is_conn = nx.is_connected(graph)\n",
    "print('is_connected: ', is_conn)\n",
    "max_d = max(dict(graph.degree()).values())\n",
    "print('max_degree: ', max_d)\n",
    "avg_d = sum(dict(graph.degree()).values())/len(graph)\n",
    "print('avg_degree: ', avg_d)\n",
    "d = 1/(factor*max_d)\n",
    "print('d: {:.6f}'.format(d))\n",
    "L = nx.laplacian_matrix(graph).toarray()\n",
    "eig, _ = np.linalg.eig(L)\n",
    "print('rho(L): ', max(eig))\n",
    "V = torch.Tensor(np.eye(num_nodes) - d*L)\n",
    "eig, _ = np.linalg.eig(V)\n",
    "print('rho(V): ', max(eig))\n",
    "Z = V - 1/num_nodes\n",
    "eig, _ = np.linalg.eig(Z)\n",
    "print('rho(Z): ', max(eig))"
   ]
  },
  {
   "cell_type": "code",
   "execution_count": 1,
   "metadata": {
    "collapsed": false
   },
   "outputs": [],
   "source": [
    "from arguments import Arguments as A\n",
    "from consensus import get_alpha_closed_form\n",
    "\n",
    "args = A()"
   ]
  },
  {
   "cell_type": "code",
   "execution_count": 8,
   "metadata": {
    "collapsed": false
   },
   "outputs": [
    {
     "data": {
      "text/plain": [
       "(8.190261786083755e-07, [60000, 0.1, 0, 10, 2.55, 7840, 5, 3])"
      ]
     },
     "execution_count": 8,
     "metadata": {},
     "output_type": "execute_result"
    }
   ],
   "source": [
    "args.dynamic_delta = False\n",
    "args.delta = 0\n",
    "get_alpha_closed_form(args, 2.55, 31, 5, 3, 7840)"
   ]
  },
  {
   "cell_type": "code",
   "execution_count": 15,
   "metadata": {
    "collapsed": false
   },
   "outputs": [
    {
     "data": {
      "text/plain": [
       "tensor([1., 1., 1., 1., 1., 1., 1., 1., 1., 1., 0., 0., 0., 0., 0., 0., 0., 0.,\n",
       "        0., 0., 0., 0., 0., 0., 0., 0., 0., 0., 0., 0., 1., 1., 1., 1., 1., 1.,\n",
       "        1., 1., 1., 1.])"
      ]
     },
     "execution_count": 15,
     "metadata": {},
     "output_type": "execute_result"
    }
   ],
   "source": [
    "import torch\n",
    "a = torch.ones(10,)\n",
    "b = torch.zeros(20,)\n",
    "torch.cat([a, b, a])"
   ]
  },
  {
   "cell_type": "code",
   "execution_count": null,
   "metadata": {
    "collapsed": false
   },
   "outputs": [],
   "source": [
    "import pickle as pkl\n",
    "pkl.dump(open('../graphs/{}_deg_{:d}_p_{:.4f}'.format(topology, avg_deg, rho)"
   ]
  },
  {
   "cell_type": "code",
   "execution_count": 149,
   "metadata": {
    "collapsed": false
   },
   "outputs": [
    {
     "data": {
      "text/plain": [
       "15.363586482881503"
      ]
     },
     "execution_count": 149,
     "metadata": {},
     "output_type": "execute_result"
    }
   ],
   "source": [
    "log = np.log2\n",
    "\n",
    "(log(9.7)-2*log((20**2)*0.24))/(2*log(0.80))"
   ]
  },
  {
   "cell_type": "code",
   "execution_count": null,
   "metadata": {
    "collapsed": false
   },
   "outputs": [],
   "source": [
    "../history/history_mnist_svm_fog_uniform_non_iid_1_num_workers_200_lr_0.01_batch_300_laplace_rounds_2_radius_0.7_d2d_1.0_factor_2_alpha_20.pkl\n",
    "../history/history_mnist_svm_fog_uniform_non_iid_1_num_workers_200_lr_0.01_batch_300_laplace_rounds_2_radius_0.7_d2d_1.0_factor_2_alpha_20.pkl\n",
    "../history/history_mnist_svm_fog_uniform_non_iid_1_num_workers_500_lr_0.01_batch_120_laplace_rounds_2_radius_0.7_d2d_1.0_factor_2_alpha_False.pkl\n",
    "mnist_svm_fog_uniform_non_iid_1_num_workers_1000_lr_0.01_batch_60_laplace_rounds_2_radius_0.7_d2d_1.0_factor_2_alpha_False\n",
    "mnist_svm_fog_uniform_non_iid_10_num_workers_200_lr_0.01_batch_300_laplace_rounds_2_radius_0.7_d2d_1.0_factor_2_alpha_0.01\n",
    "# iid case with static alpha\n",
    "../history/history_mnist_svm_fog_uniform_non_iid_10_num_workers_500_lr_0.01_batch_120_laplace_rounds_2_radius_0.7_d2d_1.0_factor_2_alpha_False_dyn_False.pkl\n",
    "# iid with dynamic alpha\n",
    "../history/history_mnist_svm_fog_uniform_non_iid_10_num_workers_500_lr_0.01_batch_120_laplace_rounds_2_radius_0.7_d2d_1.0_factor_2_alpha_False_dyn_True.pkl"
   ]
  },
  {
   "cell_type": "code",
   "execution_count": 154,
   "metadata": {
    "collapsed": false
   },
   "outputs": [],
   "source": [
    "import pickle as pkl\n",
    "x_ax, y_ax, l_test, grad_tr, rounds_tr, div_tr = pkl.load(open('../history/history_mnist_svm_fog_uniform_non_iid_1_num_workers_500_lr_0.01_batch_120_laplace_rounds_2_radius_0.7_d2d_1.0_factor_2_alpha_False.pkl', 'rb')) "
   ]
  },
  {
   "cell_type": "code",
   "execution_count": 155,
   "metadata": {
    "collapsed": false
   },
   "outputs": [],
   "source": [
    "from collections import defaultdict\n",
    "\n",
    "x_ax = list(range(25))\n",
    "d_ax = defaultdict(list)\n",
    "r_ax = defaultdict(list)\n",
    "d_1 = defaultdict(list)\n",
    "r_1 = defaultdict(list)\n",
    "for l in range(4):\n",
    "    for div in div_tr:\n",
    "        d_ax[l].append(sum(div[l])/len(div[l]))\n",
    "        d_1[l].append(div[l][0])\n",
    "    for r in rounds_tr:\n",
    "        r_ax[l].append(sum(r[l])/len(r[l]))\n",
    "        r_1[l].append(r[l][0])"
   ]
  },
  {
   "cell_type": "code",
   "execution_count": 281,
   "metadata": {
    "collapsed": false
   },
   "outputs": [
    {
     "data": {
      "text/plain": [
       "9.851364014993752e-09"
      ]
     },
     "execution_count": 281,
     "metadata": {},
     "output_type": "execute_result"
    }
   ],
   "source": [
    "eta = 1/0.1\n",
    "lr = 0.0001\n",
    "mu = 0.1\n",
    "delta = mu/(2*eta)\n",
    "D = 60000\n",
    "grad = 0.29\n",
    "phi = 25\n",
    "omega = 7840\n",
    "N = 5\n",
    "L = 2\n",
    "alpha = ((D**2) * mu* (mu - delta * eta) *(grad**2)) / ((eta**4)* phi * (omega**2)* N * L)\n",
    "alpha"
   ]
  },
  {
   "cell_type": "code",
   "execution_count": 434,
   "metadata": {
    "collapsed": false
   },
   "outputs": [
    {
     "name": "stdout",
     "output_type": "stream",
     "text": [
      "19.712876983944586\n",
      "335.699882951763\n"
     ]
    }
   ],
   "source": [
    "alpha = 1e-8\n",
    "L = 5\n",
    "div = 2e-5\n",
    "rho = 0.96\n",
    "print((np.log2(alpha) - 2*np.log2((L**2)*(div)))/(2*np.log2(rho)))\n",
    "\n",
    "div = 8\n",
    "print((np.log2(alpha) - 2*np.log2((L**2)*(div)))/(2*np.log2(rho)))"
   ]
  },
  {
   "cell_type": "code",
   "execution_count": 316,
   "metadata": {
    "collapsed": false
   },
   "outputs": [
    {
     "ename": "SyntaxError",
     "evalue": "invalid syntax (<ipython-input-316-909056cfdd41>, line 4)",
     "output_type": "error",
     "traceback": [
      "\u001b[0;36m  File \u001b[0;32m\"<ipython-input-316-909056cfdd41>\"\u001b[0;36m, line \u001b[0;32m4\u001b[0m\n\u001b[0;31m    D =\u001b[0m\n\u001b[0m        ^\u001b[0m\n\u001b[0;31mSyntaxError\u001b[0m\u001b[0;31m:\u001b[0m invalid syntax\n"
     ]
    }
   ],
   "source": [
    "eta = 1/0.001\n",
    "mu = 1e-5\n",
    "delta = mu/(2*eta)\n",
    "D = "
   ]
  },
  {
   "cell_type": "code",
   "execution_count": 163,
   "metadata": {
    "collapsed": false
   },
   "outputs": [
    {
     "name": "stdout",
     "output_type": "stream",
     "text": [
      "7840\n",
      "10\n"
     ]
    }
   ],
   "source": [
    "import torch\n",
    "from svm import SVM\n",
    "model = SVM()\n",
    "for p in model.parameters():\n",
    "    print(p.flatten().size()[0])"
   ]
  },
  {
   "cell_type": "code",
   "execution_count": 159,
   "metadata": {
    "collapsed": false
   },
   "outputs": [
    {
     "name": "stdout",
     "output_type": "stream",
     "text": [
      "[30 34 30 31 29 27 29 31 29 30]\n",
      "[30 34 30 31 29 27 29 31 29 30]\n",
      "[30 34 30 31 29 27 29 31 29 30]\n",
      "[30 34 30 31 29 27 29 31 29 30]\n",
      "[30 34 30 31 29 27 29 31 29 30]\n",
      "[30 34 30 31 29 27 29 31 29 30]\n",
      "[29 34 30 31 29 27 30 31 29 30]\n",
      "[30 34 30 31 29 27 29 31 29 30]\n",
      "[29 34 30 31 29 27 30 31 29 30]\n",
      "[30 34 30 31 29 27 29 31 29 30]\n",
      "[29 34 30 31 29 27 30 31 29 30]\n",
      "[29 34 30 31 29 27 30 31 29 30]\n",
      "[30 34 30 31 29 27 29 31 29 30]\n",
      "[30 34 30 31 29 27 29 31 29 30]\n",
      "[29 34 30 31 29 27 30 31 29 30]\n",
      "[30 34 30 31 29 27 29 31 29 30]\n",
      "[29 34 30 31 29 27 30 31 29 30]\n",
      "[29 34 30 31 29 27 30 31 29 30]\n",
      "[30 34 30 31 29 27 29 31 29 30]\n",
      "[29 34 30 31 29 27 30 31 29 30]\n",
      "[30 34 30 31 29 27 29 31 29 30]\n",
      "[30 34 30 30 29 27 30 31 29 30]\n",
      "[30 34 30 31 29 27 29 31 29 30]\n",
      "[29 34 30 31 29 27 30 31 29 30]\n",
      "[29 34 30 31 29 27 30 31 29 30]\n",
      "[30 34 30 31 29 27 29 31 29 30]\n",
      "[30 34 30 30 29 27 30 31 29 30]\n",
      "[30 34 30 31 29 27 29 31 29 30]\n",
      "[29 34 30 31 29 27 30 31 29 30]\n",
      "[30 34 30 30 29 27 30 31 29 30]\n",
      "[30 34 30 31 29 27 29 31 29 30]\n",
      "[29 34 30 31 29 27 30 31 29 30]\n",
      "[30 34 30 30 29 27 30 31 29 30]\n",
      "[29 34 30 31 29 27 30 31 29 30]\n",
      "[30 34 30 31 29 27 29 31 29 30]\n",
      "[30 34 30 30 29 27 30 31 29 30]\n",
      "[29 34 30 31 29 27 30 31 29 30]\n",
      "[30 34 30 30 29 27 30 31 29 30]\n",
      "[30 34 30 31 29 27 29 31 29 30]\n",
      "[29 34 30 31 29 27 30 31 29 30]\n",
      "[30 34 30 31 29 27 29 31 29 30]\n",
      "[30 34 30 30 29 27 30 31 29 30]\n",
      "[30 34 30 30 29 27 30 31 29 30]\n",
      "[29 34 30 31 29 27 30 31 29 30]\n",
      "[30 34 30 31 29 27 29 31 29 30]\n",
      "[29 34 30 31 29 27 30 31 29 30]\n",
      "[30 34 30 31 29 27 29 31 29 30]\n",
      "[30 34 30 30 29 27 30 31 29 30]\n",
      "[30 34 30 30 29 27 30 31 29 30]\n",
      "[30 34 30 31 29 27 29 31 29 30]\n",
      "[29 34 30 31 29 27 30 31 29 30]\n",
      "[30 34 30 31 29 27 29 31 29 30]\n",
      "[29 34 30 31 29 27 30 31 29 30]\n",
      "[30 34 30 30 29 27 30 31 29 30]\n",
      "[30 34 30 31 29 27 29 31 29 30]\n",
      "[30 33 30 31 29 27 30 31 29 30]\n",
      "[29 34 30 31 29 27 30 31 29 30]\n",
      "[30 34 30 30 29 27 30 31 29 30]\n",
      "[30 33 30 31 29 27 30 31 29 30]\n",
      "[30 34 30 31 29 27 29 31 29 30]\n",
      "[29 34 30 31 29 27 30 31 29 30]\n",
      "[30 34 30 30 29 27 30 31 29 30]\n",
      "[29 34 30 31 29 27 30 31 29 30]\n",
      "[30 33 30 31 29 27 30 31 29 30]\n",
      "[30 34 30 31 29 27 29 31 29 30]\n",
      "[30 34 30 30 29 27 30 31 29 30]\n",
      "[30 34 30 31 29 27 29 31 29 30]\n",
      "[30 33 30 31 29 27 30 31 29 30]\n",
      "[29 34 30 31 29 27 30 31 29 30]\n",
      "[30 34 30 30 29 27 30 31 29 30]\n",
      "[30 33 30 31 29 27 30 31 29 30]\n",
      "[30 34 30 31 29 27 29 31 29 30]\n",
      "[30 34 30 30 29 27 30 31 29 30]\n",
      "[29 34 30 31 29 27 30 31 29 30]\n",
      "[30 33 30 31 29 27 30 31 29 30]\n",
      "[30 34 30 30 29 27 30 31 29 30]\n",
      "[30 34 30 31 29 27 29 31 29 30]\n",
      "[30 34 30 31 29 27 30 31 29 30]\n",
      "[29 34 30 31 29 27 30 31 29 30]\n",
      "[30 34 30 31 29 27 29 31 29 30]\n",
      "[29 34 30 31 29 27 30 31 29 30]\n",
      "[30 34 30 30 29 27 30 31 29 30]\n",
      "[30 33 30 31 29 27 30 31 29 30]\n",
      "[30 34 30 31 29 27 29 31 29 30]\n",
      "[29 34 30 31 29 27 30 32 29 29]\n",
      "[30 34 30 30 29 27 30 31 29 30]\n",
      "[29 33 30 31 29 27 30 32 29 30]\n",
      "[30 34 30 31 29 27 29 32 29 29]\n",
      "[30 34 30 30 29 27 30 31 29 30]\n",
      "[29 33 30 31 29 27 30 32 29 30]\n",
      "[30 34 30 31 29 27 29 32 29 29]\n",
      "[30 34 30 30 29 27 30 31 29 30]\n",
      "[30 33 30 31 29 27 29 32 29 30]\n",
      "[29 34 30 31 29 27 30 32 29 29]\n",
      "[30 34 30 30 29 27 30 31 29 30]\n",
      "[30 33 30 31 29 27 30 32 29 29]\n",
      "[29 34 30 31 29 27 29 32 29 30]\n",
      "[30 34 30 30 29 27 30 31 29 30]\n",
      "[30 33 30 31 29 27 29 32 29 30]\n",
      "[29 34 30 31 29 27 30 32 29 29]\n",
      "[30 34 30 30 29 27 30 31 29 30]\n",
      "[30 33 30 31 29 27 29 32 29 30]\n",
      "[29 34 30 31 29 27 30 32 29 29]\n",
      "[30 34 30 30 29 27 30 31 29 30]\n",
      "[30 33 30 31 29 27 30 32 29 29]\n",
      "[29 34 30 31 29 27 29 32 29 30]\n",
      "[30 33 30 30 29 27 30 31 30 30]\n",
      "[29 34 30 31 29 27 30 32 29 29]\n",
      "[30 34 30 30 29 27 29 31 30 30]\n",
      "[29 33 30 31 29 27 30 32 29 30]\n",
      "[30 34 29 31 29 27 29 32 30 29]\n",
      "[30 33 30 30 29 27 30 31 30 30]\n",
      "[30 34 30 31 29 27 29 32 29 29]\n",
      "[29 34 29 30 29 27 30 32 30 30]\n",
      "[30 33 30 31 29 27 29 31 30 30]\n",
      "[30 34 29 31 29 27 30 32 29 29]\n",
      "[29 34 30 30 29 27 30 31 30 30]\n",
      "[30 33 29 31 29 27 30 32 29 30]\n",
      "[29 34 30 31 29 27 29 32 30 29]\n",
      "[30 33 30 30 29 27 30 31 30 30]\n",
      "[29 34 29 31 30 27 29 32 30 29]\n",
      "[30 34 30 30 29 27 30 31 29 30]\n",
      "[29 33 30 31 29 27 30 32 29 30]\n",
      "[30 34 29 30 30 27 29 32 30 29]\n",
      "[30 33 29 31 30 27 29 31 30 30]\n",
      "[29 34 30 31 29 27 30 32 29 29]\n",
      "[30 33 29 30 30 27 30 31 30 30]\n",
      "[29 34 30 31 30 27 29 32 29 29]\n",
      "[30 33 30 30 29 27 30 31 30 30]\n",
      "[29 34 30 31 29 27 29 32 30 29]\n",
      "[30 34 29 30 30 27 30 31 29 30]\n",
      "[29 33 29 31 30 27 30 32 30 29]\n",
      "[30 34 30 30 29 27 29 32 29 30]\n",
      "[30 33 29 31 30 27 30 31 30 29]\n",
      "[29 34 30 31 29 27 29 32 29 30]\n",
      "[30 33 29 30 30 27 30 31 30 30]\n",
      "[29 34 30 31 29 27 30 32 29 29]\n",
      "[30 33 30 30 30 27 29 31 30 30]\n",
      "[29 34 30 31 29 27 29 32 29 30]\n",
      "[30 34 29 30 30 27 30 31 30 29]\n",
      "[30 33 30 31 29 27 29 32 29 30]\n",
      "[29 34 29 30 30 27 30 32 30 29]\n",
      "[30 33 30 31 30 27 30 31 29 29]\n",
      "[29 34 29 31 29 27 29 32 30 30]\n",
      "[30 33 30 30 29 27 30 31 30 30]\n",
      "[30 34 29 31 30 27 29 32 29 29]\n",
      "[29 33 30 30 30 27 30 31 30 30]\n",
      "[29 34 29 31 29 27 30 32 30 29]\n",
      "[30 34 30 30 30 27 29 31 29 30]\n",
      "[30 33 29 31 30 27 29 32 29 30]\n",
      "[29 34 30 30 29 27 30 32 30 29]\n",
      "[29 33 30 31 30 27 30 31 30 29]\n",
      "[30 34 29 31 29 27 29 32 29 30]\n",
      "[30 33 30 30 30 27 30 31 30 29]\n",
      "[29 34 29 31 29 27 29 32 30 30]\n",
      "[30 33 30 30 30 27 30 31 29 30]\n",
      "[29 34 30 31 29 27 29 32 30 29]\n",
      "[30 34 29 30 30 27 30 31 29 30]\n",
      "[30 33 30 31 30 27 29 32 29 29]\n",
      "[29 34 29 30 29 28 30 31 30 30]\n",
      "[29 33 29 31 30 27 30 32 30 29]\n",
      "[30 34 30 30 29 28 29 31 29 30]\n",
      "[30 33 29 31 29 27 29 32 30 30]\n",
      "[29 34 30 30 30 28 30 31 29 29]\n",
      "[30 33 29 31 30 27 30 32 29 29]\n",
      "[29 34 30 30 29 28 29 31 30 30]\n",
      "[29 33 29 31 30 27 29 32 30 30]\n",
      "[30 34 30 30 29 28 30 31 29 29]\n",
      "[30 33 29 31 30 27 29 32 30 29]\n",
      "[29 34 30 30 29 28 30 31 29 30]\n",
      "[30 33 30 31 30 27 29 32 29 29]\n",
      "[29 34 29 30 29 28 30 31 30 30]\n",
      "[29 33 29 31 30 27 29 32 30 30]\n",
      "[30 34 30 30 29 28 30 31 29 29]\n",
      "[30 33 30 31 29 27 29 32 30 29]\n",
      "[29 34 29 30 30 28 30 31 29 30]\n",
      "[30 33 30 31 30 27 29 32 29 29]\n",
      "[29 34 29 30 29 28 30 31 30 30]\n",
      "[30 33 29 31 30 27 30 32 29 29]\n",
      "[29 34 30 30 29 28 29 31 30 30]\n",
      "[29 33 30 31 29 27 30 32 30 29]\n",
      "[30 34 29 30 30 28 29 31 29 30]\n",
      "[30 33 30 31 29 27 29 32 30 29]\n",
      "[29 34 29 30 30 28 30 31 29 30]\n",
      "[29 33 30 31 30 27 29 32 29 30]\n",
      "[30 34 29 30 29 28 30 31 30 29]\n",
      "[29 33 30 31 29 27 30 32 29 30]\n",
      "[30 34 29 30 30 28 29 31 30 29]\n",
      "[29 33 30 31 30 27 30 32 29 29]\n",
      "[30 34 29 30 29 28 29 31 30 30]\n",
      "[30 33 30 31 29 27 30 32 29 29]\n",
      "[29 34 29 30 30 28 29 31 30 30]\n",
      "[29 33 30 31 29 27 30 32 30 29]\n",
      "[30 34 29 30 30 28 29 31 29 30]\n",
      "[30 33 29 31 29 27 29 32 30 30]\n",
      "[29 34 30 30 30 28 30 31 29 29]\n",
      "[30 33 29 31 29 27 30 32 30 29]\n",
      "[29 34 30 30 30 28 29 31 29 30]\n",
      "[30 33 29 31 30 27 30 32 29 29]\n",
      "[29 33 30 30 29 28 29 31 30 30]\n"
     ]
    }
   ],
   "source": [
    "for _ in y_trains:\n",
    "    print(np.bincount(_))"
   ]
  },
  {
   "cell_type": "code",
   "execution_count": 28,
   "metadata": {
    "collapsed": false
   },
   "outputs": [
    {
     "data": {
      "text/plain": [
       "array([ 5, 10, 15, 20, 25])"
      ]
     },
     "execution_count": 28,
     "metadata": {},
     "output_type": "execute_result"
    }
   ],
   "source": [
    "import matplotlib.pyplot as plt\n",
    "import numpy as np\n",
    "k = np.array(range(5, 26, 5))\n",
    "k"
   ]
  },
  {
   "cell_type": "code",
   "execution_count": 29,
   "metadata": {
    "collapsed": false
   },
   "outputs": [
    {
     "data": {
      "text/plain": [
       "array([0.06190247, 0.04789896, 0.0370633 , 0.02867887, 0.02219117])"
      ]
     },
     "execution_count": 29,
     "metadata": {},
     "output_type": "execute_result"
    }
   ],
   "source": [
    "e = 0.08*((1-0.05)**k)\n",
    "e"
   ]
  },
  {
   "cell_type": "code",
   "execution_count": 26,
   "metadata": {
    "collapsed": false
   },
   "outputs": [
    {
     "data": {
      "text/plain": [
       "(array([0.02, 0.03, 0.04, 0.05, 0.06]), array([27., 19., 13.,  9.,  6.]))"
      ]
     },
     "execution_count": 26,
     "metadata": {},
     "output_type": "execute_result"
    }
   ],
   "source": [
    "eps = np.array(range(2, 7,))/100\n",
    "k = np.ceil(np.log(eps/0.0776)/np.log(1-0.05))\n",
    "eps, k"
   ]
  },
  {
   "cell_type": "code",
   "execution_count": 31,
   "metadata": {
    "collapsed": false
   },
   "outputs": [
    {
     "data": {
      "image/png": "[encoded data removed]",
      "text/plain": [
       "<Figure size 432x288 with 1 Axes>"
      ]
     },
     "metadata": {
      "needs_background": "light"
     },
     "output_type": "display_data"
    }
   ],
   "source": [
    "import pickle as pkl\n",
    "plt.plot(e, k, label='theory')\n",
    "for mul in [0.99, 0.8]:\n",
    "    x_ax, y_ax, l_test, _, _, _ = pkl.load(open('../history/history_mnist_svm_fog_uniform_non_iid_1_num_workers_125_lr_0.004_decay_0.1_batch_480_laplace_rounds_2_radius_graph_multi_d2d_1.0_factor_4_alpha_0.9_dyn_True_delta_multiplier_{}_omega_1.1.pkl'.format(mul), 'rb'))\n",
    "    plt.plot(l_test[4:26], x_ax[4:26], label=str(mul))\n",
    "\n",
    "plt.legend()\n",
    "plt.xlabel('k')\n",
    "plt.ylabel('eps')\n",
    "plt.savefig('../plots/tmp.png')"
   ]
  },
  {
   "cell_type": "code",
   "execution_count": 38,
   "metadata": {
    "collapsed": false
   },
   "outputs": [],
   "source": [
    "from torchvision import datasets, transforms\n",
    "import torch\n",
    "from arguments import Arguments\n",
    "\n",
    "args = Arguments()\n",
    "kwargs = {}\n",
    "\n",
    "train_loader = torch.utils.data.DataLoader(\n",
    "    datasets.MNIST('../data', train=True, download=True, transform=tranforms.Compose([\n",
    "        transforms.ToTensor()\n",
    "    ])),\n",
    "    batch_size=args.num_train, shuffle=False, **kwargs)\n"
   ]
  },
  {
   "cell_type": "code",
   "execution_count": 39,
   "metadata": {
    "collapsed": false
   },
   "outputs": [
    {
     "ename": "TypeError",
     "evalue": "default_collate: batch must contain tensors, numpy arrays, numbers, dicts or lists; found <class 'PIL.Image.Image'>",
     "output_type": "error",
     "traceback": [
      "\u001b[0;31m---------------------------------------------------------------------------\u001b[0m",
      "\u001b[0;31mTypeError\u001b[0m                                 Traceback (most recent call last)",
      "\u001b[0;32m<ipython-input-39-09a4f9013035>\u001b[0m in \u001b[0;36m<module>\u001b[0;34m\u001b[0m\n\u001b[0;32m----> 1\u001b[0;31m \u001b[0;32mfor\u001b[0m \u001b[0mdata\u001b[0m\u001b[0;34m,\u001b[0m \u001b[0mtarget\u001b[0m \u001b[0;32min\u001b[0m \u001b[0mtrain_loader\u001b[0m\u001b[0;34m:\u001b[0m\u001b[0;34m\u001b[0m\u001b[0;34m\u001b[0m\u001b[0m\n\u001b[0m\u001b[1;32m      2\u001b[0m     \u001b[0mprint\u001b[0m\u001b[0;34m(\u001b[0m\u001b[0;34m'done'\u001b[0m\u001b[0;34m)\u001b[0m\u001b[0;34m\u001b[0m\u001b[0;34m\u001b[0m\u001b[0m\n",
      "\u001b[0;32m/usr/local/lib/python3.6/dist-packages/torch/utils/data/dataloader.py\u001b[0m in \u001b[0;36m__next__\u001b[0;34m(self)\u001b[0m\n\u001b[1;32m    343\u001b[0m \u001b[0;34m\u001b[0m\u001b[0m\n\u001b[1;32m    344\u001b[0m     \u001b[0;32mdef\u001b[0m \u001b[0m__next__\u001b[0m\u001b[0;34m(\u001b[0m\u001b[0mself\u001b[0m\u001b[0;34m)\u001b[0m\u001b[0;34m:\u001b[0m\u001b[0;34m\u001b[0m\u001b[0;34m\u001b[0m\u001b[0m\n\u001b[0;32m--> 345\u001b[0;31m         \u001b[0mdata\u001b[0m \u001b[0;34m=\u001b[0m \u001b[0mself\u001b[0m\u001b[0;34m.\u001b[0m\u001b[0m_next_data\u001b[0m\u001b[0;34m(\u001b[0m\u001b[0;34m)\u001b[0m\u001b[0;34m\u001b[0m\u001b[0;34m\u001b[0m\u001b[0m\n\u001b[0m\u001b[1;32m    346\u001b[0m         \u001b[0mself\u001b[0m\u001b[0;34m.\u001b[0m\u001b[0m_num_yielded\u001b[0m \u001b[0;34m+=\u001b[0m \u001b[0;36m1\u001b[0m\u001b[0;34m\u001b[0m\u001b[0;34m\u001b[0m\u001b[0m\n\u001b[1;32m    347\u001b[0m         \u001b[0;32mif\u001b[0m \u001b[0mself\u001b[0m\u001b[0;34m.\u001b[0m\u001b[0m_dataset_kind\u001b[0m \u001b[0;34m==\u001b[0m \u001b[0m_DatasetKind\u001b[0m\u001b[0;34m.\u001b[0m\u001b[0mIterable\u001b[0m \u001b[0;32mand\u001b[0m\u001b[0;31m \u001b[0m\u001b[0;31m\\\u001b[0m\u001b[0;34m\u001b[0m\u001b[0;34m\u001b[0m\u001b[0m\n",
      "\u001b[0;32m/usr/local/lib/python3.6/dist-packages/torch/utils/data/dataloader.py\u001b[0m in \u001b[0;36m_next_data\u001b[0;34m(self)\u001b[0m\n\u001b[1;32m    383\u001b[0m     \u001b[0;32mdef\u001b[0m \u001b[0m_next_data\u001b[0m\u001b[0;34m(\u001b[0m\u001b[0mself\u001b[0m\u001b[0;34m)\u001b[0m\u001b[0;34m:\u001b[0m\u001b[0;34m\u001b[0m\u001b[0;34m\u001b[0m\u001b[0m\n\u001b[1;32m    384\u001b[0m         \u001b[0mindex\u001b[0m \u001b[0;34m=\u001b[0m \u001b[0mself\u001b[0m\u001b[0;34m.\u001b[0m\u001b[0m_next_index\u001b[0m\u001b[0;34m(\u001b[0m\u001b[0;34m)\u001b[0m  \u001b[0;31m# may raise StopIteration\u001b[0m\u001b[0;34m\u001b[0m\u001b[0;34m\u001b[0m\u001b[0m\n\u001b[0;32m--> 385\u001b[0;31m         \u001b[0mdata\u001b[0m \u001b[0;34m=\u001b[0m \u001b[0mself\u001b[0m\u001b[0;34m.\u001b[0m\u001b[0m_dataset_fetcher\u001b[0m\u001b[0;34m.\u001b[0m\u001b[0mfetch\u001b[0m\u001b[0;34m(\u001b[0m\u001b[0mindex\u001b[0m\u001b[0;34m)\u001b[0m  \u001b[0;31m# may raise StopIteration\u001b[0m\u001b[0;34m\u001b[0m\u001b[0;34m\u001b[0m\u001b[0m\n\u001b[0m\u001b[1;32m    386\u001b[0m         \u001b[0;32mif\u001b[0m \u001b[0mself\u001b[0m\u001b[0;34m.\u001b[0m\u001b[0m_pin_memory\u001b[0m\u001b[0;34m:\u001b[0m\u001b[0;34m\u001b[0m\u001b[0;34m\u001b[0m\u001b[0m\n\u001b[1;32m    387\u001b[0m             \u001b[0mdata\u001b[0m \u001b[0;34m=\u001b[0m \u001b[0m_utils\u001b[0m\u001b[0;34m.\u001b[0m\u001b[0mpin_memory\u001b[0m\u001b[0;34m.\u001b[0m\u001b[0mpin_memory\u001b[0m\u001b[0;34m(\u001b[0m\u001b[0mdata\u001b[0m\u001b[0;34m)\u001b[0m\u001b[0;34m\u001b[0m\u001b[0;34m\u001b[0m\u001b[0m\n",
      "\u001b[0;32m/usr/local/lib/python3.6/dist-packages/torch/utils/data/_utils/fetch.py\u001b[0m in \u001b[0;36mfetch\u001b[0;34m(self, possibly_batched_index)\u001b[0m\n\u001b[1;32m     45\u001b[0m         \u001b[0;32melse\u001b[0m\u001b[0;34m:\u001b[0m\u001b[0;34m\u001b[0m\u001b[0;34m\u001b[0m\u001b[0m\n\u001b[1;32m     46\u001b[0m             \u001b[0mdata\u001b[0m \u001b[0;34m=\u001b[0m \u001b[0mself\u001b[0m\u001b[0;34m.\u001b[0m\u001b[0mdataset\u001b[0m\u001b[0;34m[\u001b[0m\u001b[0mpossibly_batched_index\u001b[0m\u001b[0;34m]\u001b[0m\u001b[0;34m\u001b[0m\u001b[0;34m\u001b[0m\u001b[0m\n\u001b[0;32m---> 47\u001b[0;31m         \u001b[0;32mreturn\u001b[0m \u001b[0mself\u001b[0m\u001b[0;34m.\u001b[0m\u001b[0mcollate_fn\u001b[0m\u001b[0;34m(\u001b[0m\u001b[0mdata\u001b[0m\u001b[0;34m)\u001b[0m\u001b[0;34m\u001b[0m\u001b[0;34m\u001b[0m\u001b[0m\n\u001b[0m",
      "\u001b[0;32m/usr/local/lib/python3.6/dist-packages/torch/utils/data/_utils/collate.py\u001b[0m in \u001b[0;36mdefault_collate\u001b[0;34m(batch)\u001b[0m\n\u001b[1;32m     77\u001b[0m     \u001b[0;32melif\u001b[0m \u001b[0misinstance\u001b[0m\u001b[0;34m(\u001b[0m\u001b[0melem\u001b[0m\u001b[0;34m,\u001b[0m \u001b[0mcontainer_abcs\u001b[0m\u001b[0;34m.\u001b[0m\u001b[0mSequence\u001b[0m\u001b[0;34m)\u001b[0m\u001b[0;34m:\u001b[0m\u001b[0;34m\u001b[0m\u001b[0;34m\u001b[0m\u001b[0m\n\u001b[1;32m     78\u001b[0m         \u001b[0mtransposed\u001b[0m \u001b[0;34m=\u001b[0m \u001b[0mzip\u001b[0m\u001b[0;34m(\u001b[0m\u001b[0;34m*\u001b[0m\u001b[0mbatch\u001b[0m\u001b[0;34m)\u001b[0m\u001b[0;34m\u001b[0m\u001b[0;34m\u001b[0m\u001b[0m\n\u001b[0;32m---> 79\u001b[0;31m         \u001b[0;32mreturn\u001b[0m \u001b[0;34m[\u001b[0m\u001b[0mdefault_collate\u001b[0m\u001b[0;34m(\u001b[0m\u001b[0msamples\u001b[0m\u001b[0;34m)\u001b[0m \u001b[0;32mfor\u001b[0m \u001b[0msamples\u001b[0m \u001b[0;32min\u001b[0m \u001b[0mtransposed\u001b[0m\u001b[0;34m]\u001b[0m\u001b[0;34m\u001b[0m\u001b[0;34m\u001b[0m\u001b[0m\n\u001b[0m\u001b[1;32m     80\u001b[0m \u001b[0;34m\u001b[0m\u001b[0m\n\u001b[1;32m     81\u001b[0m     \u001b[0;32mraise\u001b[0m \u001b[0mTypeError\u001b[0m\u001b[0;34m(\u001b[0m\u001b[0mdefault_collate_err_msg_format\u001b[0m\u001b[0;34m.\u001b[0m\u001b[0mformat\u001b[0m\u001b[0;34m(\u001b[0m\u001b[0melem_type\u001b[0m\u001b[0;34m)\u001b[0m\u001b[0;34m)\u001b[0m\u001b[0;34m\u001b[0m\u001b[0;34m\u001b[0m\u001b[0m\n",
      "\u001b[0;32m/usr/local/lib/python3.6/dist-packages/torch/utils/data/_utils/collate.py\u001b[0m in \u001b[0;36m<listcomp>\u001b[0;34m(.0)\u001b[0m\n\u001b[1;32m     77\u001b[0m     \u001b[0;32melif\u001b[0m \u001b[0misinstance\u001b[0m\u001b[0;34m(\u001b[0m\u001b[0melem\u001b[0m\u001b[0;34m,\u001b[0m \u001b[0mcontainer_abcs\u001b[0m\u001b[0;34m.\u001b[0m\u001b[0mSequence\u001b[0m\u001b[0;34m)\u001b[0m\u001b[0;34m:\u001b[0m\u001b[0;34m\u001b[0m\u001b[0;34m\u001b[0m\u001b[0m\n\u001b[1;32m     78\u001b[0m         \u001b[0mtransposed\u001b[0m \u001b[0;34m=\u001b[0m \u001b[0mzip\u001b[0m\u001b[0;34m(\u001b[0m\u001b[0;34m*\u001b[0m\u001b[0mbatch\u001b[0m\u001b[0;34m)\u001b[0m\u001b[0;34m\u001b[0m\u001b[0;34m\u001b[0m\u001b[0m\n\u001b[0;32m---> 79\u001b[0;31m         \u001b[0;32mreturn\u001b[0m \u001b[0;34m[\u001b[0m\u001b[0mdefault_collate\u001b[0m\u001b[0;34m(\u001b[0m\u001b[0msamples\u001b[0m\u001b[0;34m)\u001b[0m \u001b[0;32mfor\u001b[0m \u001b[0msamples\u001b[0m \u001b[0;32min\u001b[0m \u001b[0mtransposed\u001b[0m\u001b[0;34m]\u001b[0m\u001b[0;34m\u001b[0m\u001b[0;34m\u001b[0m\u001b[0m\n\u001b[0m\u001b[1;32m     80\u001b[0m \u001b[0;34m\u001b[0m\u001b[0m\n\u001b[1;32m     81\u001b[0m     \u001b[0;32mraise\u001b[0m \u001b[0mTypeError\u001b[0m\u001b[0;34m(\u001b[0m\u001b[0mdefault_collate_err_msg_format\u001b[0m\u001b[0;34m.\u001b[0m\u001b[0mformat\u001b[0m\u001b[0;34m(\u001b[0m\u001b[0melem_type\u001b[0m\u001b[0;34m)\u001b[0m\u001b[0;34m)\u001b[0m\u001b[0;34m\u001b[0m\u001b[0;34m\u001b[0m\u001b[0m\n",
      "\u001b[0;32m/usr/local/lib/python3.6/dist-packages/torch/utils/data/_utils/collate.py\u001b[0m in \u001b[0;36mdefault_collate\u001b[0;34m(batch)\u001b[0m\n\u001b[1;32m     79\u001b[0m         \u001b[0;32mreturn\u001b[0m \u001b[0;34m[\u001b[0m\u001b[0mdefault_collate\u001b[0m\u001b[0;34m(\u001b[0m\u001b[0msamples\u001b[0m\u001b[0;34m)\u001b[0m \u001b[0;32mfor\u001b[0m \u001b[0msamples\u001b[0m \u001b[0;32min\u001b[0m \u001b[0mtransposed\u001b[0m\u001b[0;34m]\u001b[0m\u001b[0;34m\u001b[0m\u001b[0;34m\u001b[0m\u001b[0m\n\u001b[1;32m     80\u001b[0m \u001b[0;34m\u001b[0m\u001b[0m\n\u001b[0;32m---> 81\u001b[0;31m     \u001b[0;32mraise\u001b[0m \u001b[0mTypeError\u001b[0m\u001b[0;34m(\u001b[0m\u001b[0mdefault_collate_err_msg_format\u001b[0m\u001b[0;34m.\u001b[0m\u001b[0mformat\u001b[0m\u001b[0;34m(\u001b[0m\u001b[0melem_type\u001b[0m\u001b[0;34m)\u001b[0m\u001b[0;34m)\u001b[0m\u001b[0;34m\u001b[0m\u001b[0;34m\u001b[0m\u001b[0m\n\u001b[0m",
      "\u001b[0;31mTypeError\u001b[0m: default_collate: batch must contain tensors, numpy arrays, numbers, dicts or lists; found <class 'PIL.Image.Image'>"
     ]
    }
   ],
   "source": [
    "for data, target in train_loader:\n",
    "    print('done')"
   ]
  },
  {
   "cell_type": "code",
   "execution_count": null,
   "metadata": {
    "collapsed": false
   },
   "outputs": [],
   "source": []
  }
 ],
 "metadata": {
  "kernelspec": {
   "argv": [
    "python",
    "-m",
    "ipykernel_launcher",
    "-f",
    "{connection_file}"
   ],
   "display_name": "Python 3",
   "env": null,
   "interrupt_mode": "signal",
   "language": "python",
   "metadata": null,
   "name": "python3"
  },
  "name": "WorkSheet.ipynb"
 },
 "nbformat": 4,
 "nbformat_minor": 4
}
