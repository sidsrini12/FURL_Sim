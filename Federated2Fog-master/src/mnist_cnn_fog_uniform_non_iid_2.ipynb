{
 "cells": [
  {
   "cell_type": "code",
   "execution_count": null,
   "metadata": {},
   "outputs": [],
   "source": [
    "%load_ext autoreload\n",
    "%autoreload 2"
   ]
  },
  {
   "cell_type": "code",
   "execution_count": null,
   "metadata": {},
   "outputs": [],
   "source": [
    "from arguments import Arguments\n",
    "from cnn import CNN\n",
    "from collections import defaultdict\n",
    "from distributor import get_cluster_sizes, get_distributed_data, \\\n",
    "    get_distributed_data_using_loader, get_fog_graph\n",
    "from train import fog_train as train\n",
    "from numpy import array\n",
    "from numpy.random import permutation, randint\n",
    "import os\n",
    "import pickle as pkl\n",
    "from sklearn.model_selection import train_test_split\n",
    "import syft as sy\n",
    "import torch\n",
    "import torch.nn.functional as F\n",
    "import torch.optim as optim\n",
    "from torchvision import datasets, transforms\n",
    "from train import fog_train as train, test\n"
   ]
  },
  {
   "cell_type": "code",
   "execution_count": null,
   "metadata": {},
   "outputs": [],
   "source": [
    "# Setups\n",
    "args = Arguments()\n",
    "hook = sy.TorchHook(torch)\n",
    "USE_CUDA = not args.no_cuda and torch.cuda.is_available()\n",
    "\n",
    "torch.manual_seed(args.seed)\n",
    "device = torch.device(\"cuda\" if USE_CUDA else \"cpu\")\n",
    "kwargs = {'num_workers': 1, 'pin_memory': True} if USE_CUDA else {}\n",
    "kwargs = {}"
   ]
  },
  {
   "cell_type": "code",
   "execution_count": null,
   "metadata": {},
   "outputs": [],
   "source": [
    "ckpt_path = '../ckpts'\n",
    "dataset = 'mnist'\n",
    "clf_type = 'cnn'\n",
    "paradigm = 'fog_uniform_non_iid_2_num_workers_{}_lr_{}_batch_{}'.format(\n",
    "    args.num_workers,\n",
    "    args.lr,\n",
    "    args.batch_size\n",
    ")\n",
    "model_name = '{}_{}_{}'.format(dataset, clf_type, paradigm)\n",
    "print(model_name)\n",
    "init_path = os.path.join(ckpt_path, 'mnist_cnn_fl.init')\n",
    "best_path = os.path.join(ckpt_path, model_name + '.best')\n",
    "stop_path = os.path.join(ckpt_path, model_name + '.stop')"
   ]
  },
  {
   "cell_type": "code",
   "execution_count": null,
   "metadata": {},
   "outputs": [],
   "source": [
    "# prepare graph and data\n",
    "fog_graph, workers = get_fog_graph(hook, args.num_workers, args.num_clusters,\n",
    "                                 args.shuffle_workers, args.uniform_clusters)\n",
    "\n",
    "test_loader = torch.utils.data.DataLoader(\n",
    "    datasets.MNIST('../data', train=False, transform=transforms.Compose([\n",
    "                       transforms.ToTensor(),\n",
    "                       transforms.Normalize((0.1307,), (0.3081,))\n",
    "                   ])),\n",
    "    batch_size=args.test_batch_size, shuffle=True, **kwargs)\n",
    "\n",
    "X_trains, y_trains = pkl.load(open('../ckpts/data_non_iid_2_stratify_True_uniform_True.pkl', 'rb'))\n",
    "\n",
    "fog_graph"
   ]
  },
  {
   "cell_type": "code",
   "execution_count": null,
   "metadata": {},
   "outputs": [],
   "source": [
    "best = 0\n",
    "# Fire the engines\n",
    "model = CNN().to(device)\n",
    "if args.load_init:\n",
    "    model.load_state_dict(torch.load(init_path))\n",
    "    print('Load init: {}'.format(init_path))\n",
    "elif args.save_init:\n",
    "    torch.save(model.state_dict(), init_path)\n",
    "    print('Save init: {}'.format(init_path))\n"
   ]
  },
  {
   "cell_type": "code",
   "execution_count": null,
   "metadata": {},
   "outputs": [],
   "source": [
    "best = 0\n",
    "\n",
    "x_ax = []\n",
    "y_ax = []\n",
    "for epoch in range(1, args.epochs + 1):\n",
    "    train(args, model, fog_graph, workers, X_trains, y_trains,\n",
    "          device, epoch)\n",
    "    acc = test(args, model, device, test_loader, best, epoch)\n",
    "    y_ax.append(acc)\n",
    "    x_ax.append(epoch)\n",
    "\n",
    "    if args.save_model and acc > best:\n",
    "        best = acc\n",
    "        torch.save(model.state_dict(), best_path)\n",
    "        print('Model best  @ {}, acc {}: {}\\n'.format(epoch, acc, best_path))\n",
    "    \n",
    "if (args.save_model):\n",
    "    torch.save(model.state_dict(), stop_path)\n",
    "    print('Model stop: {}'.format(stop_path))\n"
   ]
  },
  {
   "cell_type": "code",
   "execution_count": null,
   "metadata": {},
   "outputs": [],
   "source": [
    "pkl.dump((x_ax, y_ax), open('../ckpts/history_{}.pkl'.format(model_name), 'wb')) "
   ]
  },
  {
   "cell_type": "code",
   "execution_count": null,
   "metadata": {},
   "outputs": [],
   "source": [
    "import matplotlib.pyplot as plt\n",
    "plt.plot(x_ax, y_ax)\n",
    "plt.savefig('../plots/{}.png'.format(model_name))"
   ]
  },
  {
   "cell_type": "code",
   "execution_count": null,
   "metadata": {},
   "outputs": [],
   "source": [
    "import numpy as np\n",
    "[np.bincount(_) for _ in y_trains]\n"
   ]
  },
  {
   "cell_type": "code",
   "execution_count": null,
   "metadata": {},
   "outputs": [],
   "source": []
  }
 ],
 "metadata": {
  "kernelspec": {
   "display_name": "Python 3",
   "language": "python",
   "name": "python3"
  },
  "language_info": {
   "codemirror_mode": {
    "name": "ipython",
    "version": 3
   },
   "file_extension": ".py",
   "mimetype": "text/x-python",
   "name": "python",
   "nbconvert_exporter": "python",
   "pygments_lexer": "ipython3",
   "version": "3.6.9"
  },
  "name": "mnist_cnn_fog_uniform_non_iid_2.ipynb"
 },
 "nbformat": 4,
 "nbformat_minor": 4
}
