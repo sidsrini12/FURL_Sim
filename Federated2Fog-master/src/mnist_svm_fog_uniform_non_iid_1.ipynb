{
 "cells": [
  {
   "cell_type": "code",
   "execution_count": 1,
   "metadata": {
    "collapsed": false
   },
   "outputs": [],
   "source": [
    "%load_ext autoreload\n",
    "%autoreload 2"
   ]
  },
  {
   "cell_type": "code",
   "execution_count": 2,
   "metadata": {
    "collapsed": false
   },
   "outputs": [],
   "source": [
    "from arguments import Arguments\n",
    "from svm import SVM\n",
    "from collections import defaultdict\n",
    "from distributor import get_cluster_sizes, get_distributed_data, \\\n",
    "    get_distributed_data_using_loader, get_fog_graph\n",
    "from train import fog_train as train\n",
    "from numpy import array\n",
    "from numpy.random import permutation, randint\n",
    "import os\n",
    "import pickle as pkl\n",
    "from sklearn.model_selection import train_test_split\n",
    "import syft as sy\n",
    "import torch\n",
    "import torch.nn.functional as F\n",
    "import torch.optim as optim\n",
    "from torchvision import datasets, transforms\n",
    "from train import fog_train as train, test\n"
   ]
  },
  {
   "cell_type": "code",
   "execution_count": 3,
   "metadata": {
    "collapsed": false
   },
   "outputs": [],
   "source": [
    "# Setups\n",
    "args = Arguments()\n",
    "hook = sy.TorchHook(torch)\n",
    "USE_CUDA = not args.no_cuda and torch.cuda.is_available()\n",
    "\n",
    "torch.manual_seed(args.seed)\n",
    "device = torch.device(\"cuda\" if USE_CUDA else \"cpu\")\n",
    "kwargs = {'num_workers': 1, 'pin_memory': True} if USE_CUDA else {}\n",
    "kwargs = {}"
   ]
  },
  {
   "cell_type": "code",
   "execution_count": 4,
   "metadata": {
    "collapsed": false
   },
   "outputs": [
    {
     "name": "stdout",
     "output_type": "stream",
     "text": [
      "mnist_svm_fog_uniform_non_iid_1_num_workers_50_lr_0.03_batch_1200\n"
     ]
    }
   ],
   "source": [
    "ckpt_path = '../ckpts'\n",
    "dataset = 'mnist'\n",
    "clf_type = 'svm'\n",
    "paradigm = 'fog_uniform_non_iid_1_num_workers_{}_lr_{}_batch_{}'.format(\n",
    "    args.num_workers,\n",
    "    args.lr,\n",
    "    args.batch_size\n",
    ")\n",
    "model_name = '{}_{}_{}'.format(dataset, clf_type, paradigm)\n",
    "print(model_name)\n",
    "init_path = '../init/mnist_svm.init'\n",
    "best_path = os.path.join(ckpt_path, model_name + '.best')\n",
    "stop_path = os.path.join(ckpt_path, model_name + '.stop')"
   ]
  },
  {
   "cell_type": "code",
   "execution_count": 7,
   "metadata": {
    "collapsed": false
   },
   "outputs": [
    {
     "data": {
      "text/plain": [
       "{'L1_W0': ['L0_W15', 'L0_W39', 'L0_W49', 'L0_W1', 'L0_W0'],\n",
       " 'L1_W1': ['L0_W32', 'L0_W24', 'L0_W16', 'L0_W29', 'L0_W31'],\n",
       " 'L1_W2': ['L0_W36', 'L0_W6', 'L0_W4', 'L0_W23', 'L0_W42'],\n",
       " 'L1_W3': ['L0_W40', 'L0_W2', 'L0_W44', 'L0_W5', 'L0_W46'],\n",
       " 'L1_W4': ['L0_W7', 'L0_W17', 'L0_W14', 'L0_W26', 'L0_W9'],\n",
       " 'L1_W5': ['L0_W11', 'L0_W22', 'L0_W3', 'L0_W21', 'L0_W25'],\n",
       " 'L1_W6': ['L0_W10', 'L0_W20', 'L0_W38', 'L0_W43', 'L0_W28'],\n",
       " 'L1_W7': ['L0_W45', 'L0_W18', 'L0_W33', 'L0_W12', 'L0_W34'],\n",
       " 'L1_W8': ['L0_W27', 'L0_W35', 'L0_W19', 'L0_W47', 'L0_W37'],\n",
       " 'L1_W9': ['L0_W41', 'L0_W48', 'L0_W30', 'L0_W8', 'L0_W13'],\n",
       " 'L2_W0': ['L1_W5', 'L1_W2'],\n",
       " 'L2_W1': ['L1_W7', 'L1_W4'],\n",
       " 'L2_W2': ['L1_W0', 'L1_W8'],\n",
       " 'L2_W3': ['L1_W6', 'L1_W1'],\n",
       " 'L2_W4': ['L1_W3', 'L1_W9'],\n",
       " 'L3_W0': ['L2_W1', 'L2_W3', 'L2_W4'],\n",
       " 'L3_W1': ['L2_W2', 'L2_W0'],\n",
       " 'L4_W0': ['L3_W0', 'L3_W1']}"
      ]
     },
     "execution_count": 7,
     "metadata": {},
     "output_type": "execute_result"
    }
   ],
   "source": [
    "# prepare graph and data\n",
    "fog_graph, workers = get_fog_graph(hook, args.num_workers, args.num_clusters,\n",
    "                                 args.shuffle_workers, args.uniform_clusters)\n",
    "\n",
    "test_loader = torch.utils.data.DataLoader(\n",
    "    datasets.MNIST('../data', train=False, transform=transforms.Compose([\n",
    "                       transforms.ToTensor(),\n",
    "                       transforms.Normalize((0.1307,), (0.3081,))\n",
    "                   ])),\n",
    "    batch_size=args.test_batch_size, shuffle=True, **kwargs)\n",
    "\n",
    "X_trains, y_trains = pkl.load(open('../ckpts/data_non_iid_1_num_workers_50_stratify_True_uniform_True.pkl', 'rb'))\n",
    "\n",
    "fog_graph"
   ]
  },
  {
   "cell_type": "code",
   "execution_count": 8,
   "metadata": {
    "collapsed": false
   },
   "outputs": [
    {
     "name": "stdout",
     "output_type": "stream",
     "text": [
      "Load init: ../init/mnist_svm.init\n"
     ]
    }
   ],
   "source": [
    "best = 0\n",
    "# Fire the engines\n",
    "model = SVM().to(device)\n",
    "\n",
    "model.load_state_dict(torch.load(init_path))\n",
    "print('Load init: {}'.format(init_path))\n"
   ]
  },
  {
   "cell_type": "code",
   "execution_count": null,
   "metadata": {
    "collapsed": false
   },
   "outputs": [],
   "source": [
    "best = 0\n",
    "\n",
    "y_ax = []\n",
    "x_ax = []\n",
    "for epoch in range(1, args.epochs + 1):\n",
    "    train(args, model, fog_graph, workers, X_trains, y_trains,\n",
    "          device, epoch, loss_fn='hinge')\n",
    "    acc = test(args, model, device, test_loader, best, epoch, loss_fn='hinge')\n",
    "    x_ax.append(epoch)\n",
    "    y_ax.append(acc)\n",
    "\n",
    "    if args.save_model and acc > best:\n",
    "        best = acc\n",
    "        torch.save(model.state_dict(), best_path)\n",
    "        print('Model best  @ {}, acc {}: {}\\n'.format(epoch, acc, best_path))\n",
    "    \n",
    "if (args.save_model):\n",
    "    torch.save(model.state_dict(), stop_path)\n",
    "    print('Model stop: {}'.format(stop_path))\n"
   ]
  },
  {
   "cell_type": "code",
   "execution_count": null,
   "metadata": {
    "collapsed": false
   },
   "outputs": [],
   "source": [
    "pkl.dump((x_ax, y_ax), open('../ckpts/history_{}.pkl'.format(model_name), 'wb'))"
   ]
  },
  {
   "cell_type": "code",
   "execution_count": null,
   "metadata": {
    "collapsed": false
   },
   "outputs": [],
   "source": [
    "import matplotlib.pyplot as plt\n",
    "plt.plot(x_ax, y_ax)\n",
    "plt.savefig('../plots/{}.png'.format(model_name))"
   ]
  },
  {
   "cell_type": "code",
   "execution_count": null,
   "metadata": {
    "collapsed": false
   },
   "outputs": [],
   "source": [
    "import numpy as np\n",
    "[np.bincount(_) for _ in y_trains]"
   ]
  },
  {
   "cell_type": "code",
   "execution_count": null,
   "metadata": {
    "collapsed": false
   },
   "outputs": [],
   "source": []
  }
 ],
 "metadata": {
  "kernelspec": {
   "argv": [
    "python",
    "-m",
    "ipykernel_launcher",
    "-f",
    "{connection_file}"
   ],
   "display_name": "Python 3",
   "env": null,
   "interrupt_mode": "signal",
   "language": "python",
   "metadata": null,
   "name": "python3"
  },
  "language_info": {
   "codemirror_mode": {
    "name": "ipython",
    "version": 3
   },
   "file_extension": ".py",
   "mimetype": "text/x-python",
   "name": "python",
   "nbconvert_exporter": "python",
   "pygments_lexer": "ipython3",
   "version": "3.6.9"
  },
  "name": "mnist_svm_fog_uniform_non_iid_1.ipynb"
 },
 "nbformat": 4,
 "nbformat_minor": 4
}
